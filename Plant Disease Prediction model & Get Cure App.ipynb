{
 "cells": [
  {
   "cell_type": "markdown",
   "id": "3a890b65",
   "metadata": {},
   "source": [
    "# Project ::🌿 Plant Disease Prediction model & Get Cure App"
   ]
  },
  {
   "cell_type": "code",
   "execution_count": 1,
   "id": "b8d7187f",
   "metadata": {},
   "outputs": [],
   "source": [
    "#import libraries\n",
    "import keras\n",
    "from keras.preprocessing.image import ImageDataGenerator\n",
    "from keras.optimizers import Adam\n",
    "from keras.callbacks import ModelCheckpoint\n",
    "\n",
    "# for accuracy and loss graph\n",
    "import matplotlib.pyplot as plt"
   ]
  },
  {
   "cell_type": "code",
   "execution_count": 2,
   "id": "8b667c43",
   "metadata": {},
   "outputs": [
    {
     "data": {
      "text/plain": [
       "'2.13.1'"
      ]
     },
     "execution_count": 2,
     "metadata": {},
     "output_type": "execute_result"
    }
   ],
   "source": [
    "keras.__version__"
   ]
  },
  {
   "cell_type": "code",
   "execution_count": 6,
   "id": "d178d562",
   "metadata": {},
   "outputs": [],
   "source": [
    "train_data_path=\"C:\\\\Users\\\\shiva\\\\OneDrive\\\\Desktop\\\\COTTON\\\\train\"\n",
    "test_data_path=\"C:\\\\Users\\\\shiva\\\\OneDrive\\\\Desktop\\\\COTTON\\\\test\"\n",
    "validation_data_path =\"C:\\\\Users\\\\shiva\\\\OneDrive\\\\Desktop\\\\COTTON\\\\val\"\n",
    "data=\"D:\\test\""
   ]
  },
  {
   "cell_type": "code",
   "execution_count": null,
   "id": "13207181",
   "metadata": {},
   "outputs": [],
   "source": []
  },
  {
   "cell_type": "code",
   "execution_count": 4,
   "id": "a7790f10",
   "metadata": {},
   "outputs": [],
   "source": [
    "# show augmented images\n",
    "def plotImages(images_arr):\n",
    "    fig, axes = plt.subplots(1, 5, figsize=(20, 20))\n",
    "    axes = axes.flatten()\n",
    "    for img, ax in zip(images_arr, axes):\n",
    "        ax.imshow(img)\n",
    "    plt.tight_layout()\n",
    "    plt.show()"
   ]
  },
  {
   "cell_type": "code",
   "execution_count": 5,
   "id": "f364645d",
   "metadata": {},
   "outputs": [],
   "source": [
    "from sklearn.model_selection import train_test_split"
   ]
  },
  {
   "cell_type": "code",
   "execution_count": 7,
   "id": "443fc20a",
   "metadata": {},
   "outputs": [
    {
     "ename": "SyntaxError",
     "evalue": "invalid syntax (4156117055.py, line 1)",
     "output_type": "error",
     "traceback": [
      "\u001b[1;36m  File \u001b[1;32m\"C:\\Users\\shiva\\AppData\\Local\\Temp\\ipykernel_3988\\4156117055.py\"\u001b[1;36m, line \u001b[1;32m1\u001b[0m\n\u001b[1;33m    x_train,x_test,y_train,y_test = train_test_split(data, train size=0.68)\u001b[0m\n\u001b[1;37m                                                                 ^\u001b[0m\n\u001b[1;31mSyntaxError\u001b[0m\u001b[1;31m:\u001b[0m invalid syntax\n"
     ]
    }
   ],
   "source": [
    "x_train,x_test,y_train,y_test = train_test_split(data, train size=0.68)"
   ]
  },
  {
   "cell_type": "code",
   "execution_count": null,
   "id": "c94c31a5",
   "metadata": {},
   "outputs": [],
   "source": []
  }
 ],
 "metadata": {
  "kernelspec": {
   "display_name": "Python 3 (ipykernel)",
   "language": "python",
   "name": "python3"
  },
  "language_info": {
   "codemirror_mode": {
    "name": "ipython",
    "version": 3
   },
   "file_extension": ".py",
   "mimetype": "text/x-python",
   "name": "python",
   "nbconvert_exporter": "python",
   "pygments_lexer": "ipython3",
   "version": "3.9.13"
  }
 },
 "nbformat": 4,
 "nbformat_minor": 5
}
